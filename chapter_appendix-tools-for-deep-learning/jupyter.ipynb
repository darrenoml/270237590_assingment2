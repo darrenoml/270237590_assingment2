{
  "cells": [
    {
      "cell_type": "code",
      "source": [
        "import librosa\n",
        "import soundfile as sf\n",
        "import numpy as np\n",
        "import matplotlib.pyplot as plt\n",
        "\n",
        "def get_note_from_audio(audio_path):\n",
        "    try:\n",
        "        y, sr = librosa.load(audio_path)\n",
        "        pitch, _ = librosa.pitch_detect(y=y, sr=sr, hop_length=512)\n",
        "        dominant_frequency = np.mean(pitch)\n",
        "        return dominant_frequency\n",
        "\n",
        "    except Exception as e:\n",
        "        print(f\"Error processing audio: {e}\")\n",
        "        return None\n",
        "\n",
        "# Example Usage\n",
        "audio_file_path = \"note.mp3\" # Replace with the actual path\n",
        "dominant_frequency = get_note_from_audio(audio_file_path)\n",
        "\n",
        "if dominant_frequency is not None:\n",
        "    print(f\"Dominant frequency (note): {dominant_frequency:.2f} Hz\")\n",
        "\n",
        "    # Optional: Convert frequency to a note name (using a lookup table)\n",
        "    note_names = {\n",
        "        261.63: \"C4\",\n",
        "        279.37: \"C#4\",\n",
        "        293.66: \"D4\",\n",
        "        311.13: \"D#4\",\n",
        "        329.63: \"E4\",\n",
        "        349.23: \"F4\",\n",
        "        369.99: \"F#4\",\n",
        "        392.00: \"G4\",\n",
        "        415.30: \"G#4\",\n",
        "        440.00: \"A4\",\n",
        "        466.16: \"A#4\",\n",
        "        493.88: \"B4\",\n",
        "        523.25: \"C5\",\n",
        "    }\n",
        "\n",
        "    closest_note = None\n",
        "    min_difference = float('inf')\n",
        "\n",
        "    for freq, note in note_names.items():\n",
        "        difference = abs(dominant_frequency - freq)\n",
        "        if difference < min_difference:\n",
        "            min_difference = difference\n",
        "            closest_note = note\n",
        "\n",
        "    print(f\"Closest note: {closest_note}\")\n",
        "else:\n",
        "    print(\"Could not determine dominant frequency.\")\n"
      ],
      "metadata": {
        "id": "rlr2nlJ-m1nI"
      },
      "id": "rlr2nlJ-m1nI",
      "execution_count": null,
      "outputs": []
    }
  ],
  "metadata": {
    "kernelspec": {
      "display_name": "Python 3",
      "name": "python3"
    },
    "language_info": {
      "name": "python"
    },
    "required_libs": [],
    "colab": {
      "provenance": []
    }
  },
  "nbformat": 4,
  "nbformat_minor": 5
}